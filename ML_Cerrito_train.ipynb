{
 "cells": [
  {
   "cell_type": "markdown",
   "metadata": {},
   "source": [
    "## Progetto Cerrito - Riconoscimento e Classificazione celllule malate di malaria\n",
    "\n",
    "Import delle librerie necessarie al funzionamento del codice:"
   ]
  },
  {
   "cell_type": "code",
   "execution_count": 104,
   "metadata": {},
   "outputs": [],
   "source": [
    "from keras.preprocessing.image import ImageDataGenerator, img_to_array\n",
    "from keras.models import Sequential\n",
    "from keras.models import load_model\n",
    "from keras.layers import Conv2D, MaxPooling2D\n",
    "from keras.layers import Flatten, Dense, Dropout\n",
    "from keras import backend as K\n",
    "import os\n",
    "import random\n",
    "import numpy as np\n",
    "import pandas as pd\n",
    "import matplotlib.pyplot as plt\n",
    "import matplotlib.image as imgplt\n",
    "from sklearn.model_selection import train_test_split\n",
    "import ipywidgets as widgets\n",
    "from PIL import Image\n",
    "import matplotlib.transforms as mtransforms"
   ]
  },
  {
   "cell_type": "markdown",
   "metadata": {},
   "source": [
    "Impostiamo alcune variabili necessarie al funzionamento del codice:\n",
    "\n",
    "1. __train_data_dir__ ------------> La directory che contiene il dataset che utilizzeremo per fare in train del modello.\n",
    "2. __validation_data_dir__ -------> La directory contenente il dataset per la valutazione del modello (alcune immagini su cui faremo delle previsioni)\n",
    "3. __img_width, img_height__ -----> le dimensioni delle immagini con cui faremo lavorare il modello (rescaling delle stesse)\n",
    "4. __nb_train_samples__ ----------> number of samples we want to use in training\n",
    "5. __nb_validation_samples__ -----> number of samples we want to use for evaluating the model\n",
    "6. __epochs__ --------------------> numero di epochs con cui faremo il training del modello\n",
    "7. __batch_size__ ----------------> numero di samples che utilizzeremo per ogni singolo passo di training (weights adjustment)"
   ]
  },
  {
   "cell_type": "code",
   "execution_count": 2,
   "metadata": {},
   "outputs": [
    {
     "name": "stdout",
     "output_type": "stream",
     "text": [
      "cell_images/Dataset\n"
     ]
    }
   ],
   "source": [
    "out = widgets.Output(layout={'border': '1px solid black'})\n",
    "out.append_stdout(\"Son\")\n",
    "train_data_dir = os.path.join('cell_images', 'Dataset')\n",
    "validation_data_dir = os.path.join('cell_images', 'Validation')\n",
    "\n",
    "print(train_data_dir)\n",
    "\n",
    "img_width, img_height = 124, 124\n",
    "nb_train_samples = 2000\n",
    "nb_validation_samples = 800\n",
    "epochs = 200\n",
    "batch_size = 16"
   ]
  },
  {
   "cell_type": "markdown",
   "metadata": {},
   "source": [
    "## Define the model\n",
    "\n",
    "First we set the input shape depending on or backend __image_data_format__.\n",
    "\n",
    "Initialize model with __Sequential()__ allows you to easily stack sequential layers of the network in order from input to output.\n",
    "\n"
   ]
  },
  {
   "cell_type": "code",
   "execution_count": 3,
   "metadata": {},
   "outputs": [
    {
     "name": "stderr",
     "output_type": "stream",
     "text": [
      "WARNING: Logging before flag parsing goes to stderr.\n",
      "W0703 11:17:26.289039 140215874946880 deprecation_wrapper.py:119] From /opt/conda3/lib/python3.6/site-packages/keras/backend/tensorflow_backend.py:74: The name tf.get_default_graph is deprecated. Please use tf.compat.v1.get_default_graph instead.\n",
      "\n"
     ]
    }
   ],
   "source": [
    "if K.image_data_format() == 'channels_first':\n",
    "    input_shape = (3, img_width, img_height)\n",
    "else:\n",
    "    input_shape = (img_width, img_height, 3)\n",
    "\n",
    "model = Sequential()"
   ]
  },
  {
   "cell_type": "markdown",
   "metadata": {},
   "source": [
    "Next, we add a 2D convolutional layer to process input images.\n",
    "We need to pass some arguments to the Conv2D() layer function:\n",
    "\n",
    "1. The first argument is the number of outputs channels (as we have described in the model architecture).\n",
    "2. Then we need to pass the kernel_size (as we have seen a 5x5 moving window) and the strides in x and y directions (1, 1).\n",
    "3. We set the activation function as a rectified linear unit, and declare the input shape we defined before. (Input shape is only needed in the first layer)"
   ]
  },
  {
   "cell_type": "code",
   "execution_count": 4,
   "metadata": {},
   "outputs": [
    {
     "name": "stderr",
     "output_type": "stream",
     "text": [
      "W0703 11:17:26.334770 140215874946880 deprecation_wrapper.py:119] From /opt/conda3/lib/python3.6/site-packages/keras/backend/tensorflow_backend.py:517: The name tf.placeholder is deprecated. Please use tf.compat.v1.placeholder instead.\n",
      "\n",
      "W0703 11:17:26.340975 140215874946880 deprecation_wrapper.py:119] From /opt/conda3/lib/python3.6/site-packages/keras/backend/tensorflow_backend.py:4138: The name tf.random_uniform is deprecated. Please use tf.random.uniform instead.\n",
      "\n"
     ]
    }
   ],
   "source": [
    "model.add(Conv2D(32, kernel_size=(3, 3), strides=(1, 1),\n",
    "                 activation='relu',\n",
    "                 input_shape=input_shape))"
   ]
  },
  {
   "cell_type": "markdown",
   "metadata": {},
   "source": [
    "Next, we add a 2D max pooling layer.\n",
    "\n",
    "In the __MaxPooling2D()__ function we need to define the size of the pooling (2, 2) and the strides in x and y directions (2, 2)."
   ]
  },
  {
   "cell_type": "code",
   "execution_count": 5,
   "metadata": {},
   "outputs": [
    {
     "name": "stderr",
     "output_type": "stream",
     "text": [
      "W0703 11:17:27.626300 140215874946880 deprecation_wrapper.py:119] From /opt/conda3/lib/python3.6/site-packages/keras/backend/tensorflow_backend.py:3976: The name tf.nn.max_pool is deprecated. Please use tf.nn.max_pool2d instead.\n",
      "\n"
     ]
    }
   ],
   "source": [
    "model.add(MaxPooling2D(pool_size=(2, 2), strides=(2, 2)))"
   ]
  },
  {
   "cell_type": "markdown",
   "metadata": {},
   "source": [
    "Then we add an additional conv+MaxPooling layer accordingly to our model architecture."
   ]
  },
  {
   "cell_type": "code",
   "execution_count": 6,
   "metadata": {},
   "outputs": [],
   "source": [
    "model.add(Conv2D(32, (3, 3), activation='relu'))\n",
    "model.add(MaxPooling2D(pool_size=(2, 2)))"
   ]
  },
  {
   "cell_type": "markdown",
   "metadata": {},
   "source": [
    "Aggiungiamo ancora una conv2d e MaxPooling2D"
   ]
  },
  {
   "cell_type": "code",
   "execution_count": 7,
   "metadata": {},
   "outputs": [],
   "source": [
    "model.add(Conv2D(64, (3, 3), activation='relu'))\n",
    "model.add(MaxPooling2D(pool_size=(2, 2)))"
   ]
  },
  {
   "cell_type": "markdown",
   "metadata": {},
   "source": [
    "We have just finished building our convolutional layers, now we want to connect the output of convolutional layers to fully connected layers. \n",
    "\n",
    "First of all we need to flatten the output  with __Flatten()__ function.\n",
    "Next we add two __Dense()__ (fully connected) layers declaring output and activation function.\n",
    "Notice that the output of the final layer must match the number of category we whant to distinguish.\n",
    "In our case 4 simpsons characters (bart, homer, lisa, marge)."
   ]
  },
  {
   "cell_type": "code",
   "execution_count": 8,
   "metadata": {},
   "outputs": [
    {
     "name": "stderr",
     "output_type": "stream",
     "text": [
      "W0703 11:17:31.156970 140215874946880 deprecation_wrapper.py:119] From /opt/conda3/lib/python3.6/site-packages/keras/backend/tensorflow_backend.py:133: The name tf.placeholder_with_default is deprecated. Please use tf.compat.v1.placeholder_with_default instead.\n",
      "\n",
      "W0703 11:17:31.176141 140215874946880 deprecation.py:506] From /opt/conda3/lib/python3.6/site-packages/keras/backend/tensorflow_backend.py:3445: calling dropout (from tensorflow.python.ops.nn_ops) with keep_prob is deprecated and will be removed in a future version.\n",
      "Instructions for updating:\n",
      "Please use `rate` instead of `keep_prob`. Rate should be set to `rate = 1 - keep_prob`.\n"
     ]
    }
   ],
   "source": [
    "model.add(Flatten())\n",
    "model.add(Dense(64, activation='relu'))\n",
    "model.add(Dropout(0.5))\n",
    "model.add(Dense(1, activation='sigmoid'))"
   ]
  },
  {
   "cell_type": "markdown",
   "metadata": {},
   "source": [
    "Last step of our model definition is the __model.compile()__\n",
    "here we need to pass some arguments:\n",
    "1. the loss function we want to minimize (keras provides a lot of loss functions - see [here](https://keras.io/losses/))\n",
    "2. an optimizer function to optimize our learning process (keras provides also a lot of loss functions - see [here](https://keras.io/optimizers/))\n",
    "3. a metric for the model evaluation. (as before keras provides a lot of loss functions - see [here](https://keras.io/metrics/))"
   ]
  },
  {
   "cell_type": "code",
   "execution_count": 9,
   "metadata": {},
   "outputs": [
    {
     "name": "stderr",
     "output_type": "stream",
     "text": [
      "W0703 11:17:37.001334 140215874946880 deprecation_wrapper.py:119] From /opt/conda3/lib/python3.6/site-packages/keras/optimizers.py:790: The name tf.train.Optimizer is deprecated. Please use tf.compat.v1.train.Optimizer instead.\n",
      "\n",
      "W0703 11:17:37.041268 140215874946880 deprecation_wrapper.py:119] From /opt/conda3/lib/python3.6/site-packages/keras/backend/tensorflow_backend.py:3376: The name tf.log is deprecated. Please use tf.math.log instead.\n",
      "\n",
      "W0703 11:17:37.051496 140215874946880 deprecation.py:323] From /opt/conda3/lib/python3.6/site-packages/tensorflow/python/ops/nn_impl.py:180: add_dispatch_support.<locals>.wrapper (from tensorflow.python.ops.array_ops) is deprecated and will be removed in a future version.\n",
      "Instructions for updating:\n",
      "Use tf.where in 2.0, which has the same broadcast rule as np.where\n"
     ]
    }
   ],
   "source": [
    "model.compile(loss='binary_crossentropy',\n",
    "              optimizer='rmsprop',\n",
    "              metrics=['accuracy'])"
   ]
  },
  {
   "cell_type": "markdown",
   "metadata": {},
   "source": [
    "## Data augmentation for training\n",
    "\n",
    "Keras provide us __ImageDataGenerator()__ class that let you generate always a fresh dataflow starting form a data directory to feed in our training-evaluating process.\n",
    "\n",
    "The images taken from the train_data_dir are randomly manipulated and feeded in to the model.\n",
    "\n",
    "This step is very important to provide a better training to the model.\n",
    "\n",
    "Per convenzione vengono assegnate le seguenti label, a partire dalla directory di input:\n",
    "1. unifected = 0\n",
    "2. parasitized = 1\n",
    "\n",
    "Applichiamo un split del dataset in per creare il dataset di test che corrisponde al 20% del dataset completo, applichiamo una seconda divisione del train set dividendolo al 50% tra train e validation, utilizzeremo il validation set per verificare il buon funzionamento della network in fase di predict."
   ]
  },
  {
   "cell_type": "code",
   "execution_count": 25,
   "metadata": {},
   "outputs": [],
   "source": [
    "data = []\n",
    "uninfected = os.listdir(train_data_dir+\"/Uninfected\")\n",
    "parasitized = os.listdir(train_data_dir+\"/Parasitized\")\n",
    "\n",
    "for i in uninfected:\n",
    "    data.append([train_data_dir+\"/Uninfected/\"+i,'Uninfected'])\n",
    "for i in parasitized:\n",
    "    data.append([train_data_dir+\"/Parasitized/\"+i,'Parasitized'])\n",
    "random.shuffle(data)\n",
    "image = [i[0] for i in data]\n",
    "label = [i[1] for i in data]\n",
    "del data\n",
    "\n",
    "X_train, X_test, Y_train, Y_test = train_test_split(image, label, test_size=0.2, random_state=42)\n",
    "X_train, X_val, Y_train, Y_val = train_test_split(X_train, Y_train, test_size=0.5, random_state=46)\n"
   ]
  },
  {
   "cell_type": "markdown",
   "metadata": {},
   "source": [
    "In order to make the most of our few training examples, we will \"augment\" them via a number of random transformations, so that our model would never see twice the exact same picture. This helps prevent overfitting and helps the model generalize better.\n",
    "\n",
    "These are just a few of the options available (for more, see the documentation). Let's quickly go over what we just wrote:\n",
    "\n",
    "rotation_range is a value in degrees (0-180), a range within which to randomly rotate pictures\n",
    "width_shift and height_shift are ranges (as a fraction of total width or height) within which to randomly translate pictures vertically or horizontally\n",
    "rescale is a value by which we will multiply the data before any other processing. Our original images consist in RGB coefficients in the 0-255, but such values would be too high for our models to process (given a typical learning rate), so we target values between 0 and 1 instead by scaling with a 1/255. factor.\n",
    "shear_range is for randomly applying shearing transformations\n",
    "zoom_range is for randomly zooming inside pictures\n",
    "horizontal_flip is for randomly flipping half of the images horizontally --relevant when there are no assumptions of horizontal assymetry (e.g. real-world pictures).\n",
    "fill_mode is the strategy used for filling in newly created pixels, which can appear after a rotation or a width/height shift."
   ]
  },
  {
   "cell_type": "code",
   "execution_count": 11,
   "metadata": {},
   "outputs": [],
   "source": [
    "train_datagen = ImageDataGenerator(\n",
    "        rotation_range=40,\n",
    "        width_shift_range=0.2,\n",
    "        height_shift_range=0.2,\n",
    "        rescale=1./255,\n",
    "        shear_range=0.2,\n",
    "        zoom_range=0.2,\n",
    "        horizontal_flip=True,\n",
    "        fill_mode='nearest')"
   ]
  },
  {
   "cell_type": "markdown",
   "metadata": {},
   "source": [
    "## Caricamento immagini da una directory (e relative sottodirectory)\n",
    "\n",
    "Utilizzando il metodo flow_from_directory() passiamo tutti i dati al modello (caricamento massivo dei dati )secondo la struttura delle cartelle, facendo anche la resize delle immagini quando necessario.\n",
    "\n"
   ]
  },
  {
   "cell_type": "code",
   "execution_count": 116,
   "metadata": {},
   "outputs": [
    {
     "data": {
      "text/html": [
       "<div>\n",
       "<style scoped>\n",
       "    .dataframe tbody tr th:only-of-type {\n",
       "        vertical-align: middle;\n",
       "    }\n",
       "\n",
       "    .dataframe tbody tr th {\n",
       "        vertical-align: top;\n",
       "    }\n",
       "\n",
       "    .dataframe thead th {\n",
       "        text-align: right;\n",
       "    }\n",
       "</style>\n",
       "<table border=\"1\" class=\"dataframe\">\n",
       "  <thead>\n",
       "    <tr style=\"text-align: right;\">\n",
       "      <th></th>\n",
       "      <th>Filename</th>\n",
       "      <th>Label</th>\n",
       "    </tr>\n",
       "  </thead>\n",
       "  <tbody>\n",
       "    <tr>\n",
       "      <th>0</th>\n",
       "      <td>cell_images/Dataset/Parasitized/C99P60ThinF_IM...</td>\n",
       "      <td>Parasitized</td>\n",
       "    </tr>\n",
       "    <tr>\n",
       "      <th>1</th>\n",
       "      <td>cell_images/Dataset/Parasitized/C59P20thinF_IM...</td>\n",
       "      <td>Parasitized</td>\n",
       "    </tr>\n",
       "    <tr>\n",
       "      <th>2</th>\n",
       "      <td>cell_images/Dataset/Parasitized/C180P141NThinF...</td>\n",
       "      <td>Parasitized</td>\n",
       "    </tr>\n",
       "    <tr>\n",
       "      <th>3</th>\n",
       "      <td>cell_images/Dataset/Uninfected/C70P31_ThinF_IM...</td>\n",
       "      <td>Uninfected</td>\n",
       "    </tr>\n",
       "  </tbody>\n",
       "</table>\n",
       "</div>"
      ],
      "text/plain": [
       "                                            Filename        Label\n",
       "0  cell_images/Dataset/Parasitized/C99P60ThinF_IM...  Parasitized\n",
       "1  cell_images/Dataset/Parasitized/C59P20thinF_IM...  Parasitized\n",
       "2  cell_images/Dataset/Parasitized/C180P141NThinF...  Parasitized\n",
       "3  cell_images/Dataset/Uninfected/C70P31_ThinF_IM...   Uninfected"
      ]
     },
     "execution_count": 116,
     "metadata": {},
     "output_type": "execute_result"
    }
   ],
   "source": [
    "x_train_dataframe = pd.DataFrame({'Filename':X_train, 'Label':Y_train})\n",
    "x_testval_dataframe = pd.DataFrame({'Filename':X_test, 'Label':Y_test})\n",
    "x_validation_dataframe = pd.DataFrame({'Filename':X_val, 'Label':Y_val})\n",
    "\n",
    "x_train_dataframe.head(4)"
   ]
  },
  {
   "cell_type": "markdown",
   "metadata": {},
   "source": [
    "Creato il dataframe con la colonna path/filename e delle label associate, passiamo a creare (e a far caricare le immagini secondo i parametri associati a train_datagen) il modello.\n",
    "Il parametro directory viene posto a None, visto che nell'X_train e nel X_test sono già specificati i percorsi per ogni immagine."
   ]
  },
  {
   "cell_type": "code",
   "execution_count": 13,
   "metadata": {},
   "outputs": [
    {
     "name": "stdout",
     "output_type": "stream",
     "text": [
      "Found 22321 validated image filenames belonging to 2 classes.\n",
      "Found 2756 validated image filenames belonging to 2 classes.\n"
     ]
    },
    {
     "name": "stderr",
     "output_type": "stream",
     "text": [
      "/opt/conda3/lib/python3.6/site-packages/keras_preprocessing/image/dataframe_iterator.py:273: UserWarning: Found 2 invalid image filename(s) in x_col=\"Filename\". These filename(s) will be ignored.\n",
      "  .format(n_invalid, x_col)\n"
     ]
    }
   ],
   "source": [
    "X_train_generator = train_datagen.flow_from_dataframe(dataframe = x_train_dataframe,directory = None, x_col = 'Filename', y_col = 'Label', class_mode = 'binary', batch_size = batch_size, target_size=(img_width, img_height))\n",
    "X_testval_generator = train_datagen.flow_from_dataframe(dataframe = x_testval_dataframe,directory = None, x_col = 'Filename', y_col = 'Label', class_mode = 'binary', batch_size = batch_size, target_size=(img_width, img_height))"
   ]
  },
  {
   "cell_type": "code",
   "execution_count": 14,
   "metadata": {},
   "outputs": [
    {
     "name": "stdout",
     "output_type": "stream",
     "text": [
      "_________________________________________________________________\n",
      "Layer (type)                 Output Shape              Param #   \n",
      "=================================================================\n",
      "conv2d_1 (Conv2D)            (None, 62, 62, 32)        896       \n",
      "_________________________________________________________________\n",
      "max_pooling2d_1 (MaxPooling2 (None, 31, 31, 32)        0         \n",
      "_________________________________________________________________\n",
      "conv2d_2 (Conv2D)            (None, 29, 29, 32)        9248      \n",
      "_________________________________________________________________\n",
      "max_pooling2d_2 (MaxPooling2 (None, 14, 14, 32)        0         \n",
      "_________________________________________________________________\n",
      "conv2d_3 (Conv2D)            (None, 12, 12, 64)        18496     \n",
      "_________________________________________________________________\n",
      "max_pooling2d_3 (MaxPooling2 (None, 6, 6, 64)          0         \n",
      "_________________________________________________________________\n",
      "flatten_1 (Flatten)          (None, 2304)              0         \n",
      "_________________________________________________________________\n",
      "dense_1 (Dense)              (None, 64)                147520    \n",
      "_________________________________________________________________\n",
      "dropout_1 (Dropout)          (None, 64)                0         \n",
      "_________________________________________________________________\n",
      "dense_2 (Dense)              (None, 1)                 65        \n",
      "=================================================================\n",
      "Total params: 176,225\n",
      "Trainable params: 176,225\n",
      "Non-trainable params: 0\n",
      "_________________________________________________________________\n"
     ]
    }
   ],
   "source": [
    "model.summary()"
   ]
  },
  {
   "cell_type": "markdown",
   "metadata": {},
   "source": [
    "## Feed the model\n",
    "\n",
    "With fit_generator() we start the training process. \n",
    "1. First of all we need to pass the training data as the first argument.\n",
    "2. Then we declare the steps needed for each epoch, that will be obviously the number of training samples divided by the batch size.\n",
    "3. Next the number of epochs we whant to train the model.\n",
    "4. Then the validation data aka test datataset and the validation steps.\n",
    "\n",
    "verbose=2 mostra la progress bar per ogni epoch."
   ]
  },
  {
   "cell_type": "code",
   "execution_count": 16,
   "metadata": {},
   "outputs": [
    {
     "name": "stdout",
     "output_type": "stream",
     "text": [
      "Epoch 1/50\n",
      "125/125 [==============================] - 37s 297ms/step - loss: 0.6916 - acc: 0.5515 - val_loss: 0.6717 - val_acc: 0.6088\n",
      "Epoch 2/50\n",
      "125/125 [==============================] - 37s 294ms/step - loss: 0.6674 - acc: 0.6105 - val_loss: 0.6168 - val_acc: 0.6900\n",
      "Epoch 3/50\n",
      "125/125 [==============================] - 36s 291ms/step - loss: 0.6300 - acc: 0.6705 - val_loss: 0.5210 - val_acc: 0.7837\n",
      "Epoch 4/50\n",
      "125/125 [==============================] - 37s 292ms/step - loss: 0.5599 - acc: 0.7670 - val_loss: 0.4497 - val_acc: 0.8553\n",
      "Epoch 5/50\n",
      "125/125 [==============================] - 36s 286ms/step - loss: 0.4032 - acc: 0.8300 - val_loss: 0.3749 - val_acc: 0.8812\n",
      "Epoch 6/50\n",
      "125/125 [==============================] - 36s 289ms/step - loss: 0.3436 - acc: 0.8770 - val_loss: 0.2824 - val_acc: 0.8875\n",
      "Epoch 7/50\n",
      "125/125 [==============================] - 36s 285ms/step - loss: 0.3344 - acc: 0.8720 - val_loss: 0.3010 - val_acc: 0.8972\n",
      "Epoch 8/50\n",
      "125/125 [==============================] - 36s 288ms/step - loss: 0.3175 - acc: 0.8955 - val_loss: 0.2807 - val_acc: 0.9000\n",
      "Epoch 9/50\n",
      "125/125 [==============================] - 36s 291ms/step - loss: 0.3135 - acc: 0.8830 - val_loss: 0.2841 - val_acc: 0.9087\n",
      "Epoch 10/50\n",
      "125/125 [==============================] - 36s 290ms/step - loss: 0.2981 - acc: 0.8980 - val_loss: 0.3426 - val_acc: 0.9075\n",
      "Epoch 11/50\n",
      "125/125 [==============================] - 36s 286ms/step - loss: 0.3103 - acc: 0.9060 - val_loss: 0.2784 - val_acc: 0.8871\n",
      "Epoch 12/50\n",
      "125/125 [==============================] - 36s 286ms/step - loss: 0.3068 - acc: 0.9020 - val_loss: 0.3724 - val_acc: 0.8925\n",
      "Epoch 13/50\n",
      "125/125 [==============================] - 36s 287ms/step - loss: 0.2840 - acc: 0.9130 - val_loss: 0.2873 - val_acc: 0.9012\n",
      "Epoch 14/50\n",
      "125/125 [==============================] - 35s 284ms/step - loss: 0.2647 - acc: 0.9215 - val_loss: 0.2865 - val_acc: 0.8947\n",
      "Epoch 15/50\n",
      "125/125 [==============================] - 36s 287ms/step - loss: 0.2846 - acc: 0.8985 - val_loss: 0.3880 - val_acc: 0.8938\n",
      "Epoch 16/50\n",
      "125/125 [==============================] - 35s 283ms/step - loss: 0.2810 - acc: 0.9075 - val_loss: 0.3654 - val_acc: 0.9075\n",
      "Epoch 17/50\n",
      "125/125 [==============================] - 36s 287ms/step - loss: 0.2708 - acc: 0.9105 - val_loss: 0.2300 - val_acc: 0.9275\n",
      "Epoch 18/50\n",
      "125/125 [==============================] - 36s 288ms/step - loss: 0.3054 - acc: 0.9025 - val_loss: 0.2639 - val_acc: 0.9086\n",
      "Epoch 19/50\n",
      "125/125 [==============================] - 36s 287ms/step - loss: 0.2835 - acc: 0.9005 - val_loss: 0.2416 - val_acc: 0.9300\n",
      "Epoch 20/50\n",
      "125/125 [==============================] - 36s 287ms/step - loss: 0.3100 - acc: 0.9045 - val_loss: 0.3489 - val_acc: 0.8812\n",
      "Epoch 21/50\n",
      "125/125 [==============================] - 36s 289ms/step - loss: 0.3191 - acc: 0.8905 - val_loss: 0.2419 - val_acc: 0.9188\n",
      "Epoch 22/50\n",
      "125/125 [==============================] - 36s 287ms/step - loss: 0.3169 - acc: 0.8965 - val_loss: 0.3800 - val_acc: 0.8962\n",
      "Epoch 23/50\n",
      "125/125 [==============================] - 36s 286ms/step - loss: 0.3142 - acc: 0.9025 - val_loss: 0.2632 - val_acc: 0.9287\n",
      "Epoch 24/50\n",
      "125/125 [==============================] - 36s 287ms/step - loss: 0.2376 - acc: 0.9200 - val_loss: 0.2676 - val_acc: 0.9213\n",
      "Epoch 25/50\n",
      "125/125 [==============================] - 37s 293ms/step - loss: 0.2808 - acc: 0.9050 - val_loss: 0.2960 - val_acc: 0.8988\n",
      "Epoch 26/50\n",
      "125/125 [==============================] - 36s 287ms/step - loss: 0.3163 - acc: 0.9035 - val_loss: 0.2693 - val_acc: 0.9163\n",
      "Epoch 27/50\n",
      "125/125 [==============================] - 36s 289ms/step - loss: 0.2893 - acc: 0.9010 - val_loss: 0.2680 - val_acc: 0.9150\n",
      "Epoch 28/50\n",
      "125/125 [==============================] - 36s 285ms/step - loss: 0.3003 - acc: 0.9060 - val_loss: 0.2425 - val_acc: 0.9099\n",
      "Epoch 29/50\n",
      "125/125 [==============================] - 36s 285ms/step - loss: 0.2978 - acc: 0.9020 - val_loss: 0.2407 - val_acc: 0.9250\n",
      "Epoch 30/50\n",
      "125/125 [==============================] - 36s 288ms/step - loss: 0.2912 - acc: 0.9105 - val_loss: 0.2242 - val_acc: 0.9237\n",
      "Epoch 31/50\n",
      "125/125 [==============================] - 35s 281ms/step - loss: 0.2841 - acc: 0.9005 - val_loss: 0.2575 - val_acc: 0.9099\n",
      "Epoch 32/50\n",
      "125/125 [==============================] - 35s 284ms/step - loss: 0.3278 - acc: 0.9045 - val_loss: 0.2855 - val_acc: 0.8912\n",
      "Epoch 33/50\n",
      "125/125 [==============================] - 36s 285ms/step - loss: 0.2687 - acc: 0.9030 - val_loss: 0.2522 - val_acc: 0.9150\n",
      "Epoch 34/50\n",
      "125/125 [==============================] - 36s 289ms/step - loss: 0.2510 - acc: 0.9180 - val_loss: 0.2409 - val_acc: 0.9200\n",
      "Epoch 35/50\n",
      "125/125 [==============================] - 36s 288ms/step - loss: 0.2758 - acc: 0.9095 - val_loss: 0.2652 - val_acc: 0.9137\n",
      "Epoch 36/50\n",
      "125/125 [==============================] - 36s 291ms/step - loss: 0.3282 - acc: 0.8945 - val_loss: 0.2721 - val_acc: 0.9050\n",
      "Epoch 37/50\n",
      "125/125 [==============================] - 36s 287ms/step - loss: 0.2568 - acc: 0.9125 - val_loss: 0.2597 - val_acc: 0.9263\n",
      "Epoch 38/50\n",
      "125/125 [==============================] - 35s 284ms/step - loss: 0.2810 - acc: 0.9140 - val_loss: 0.2281 - val_acc: 0.9162\n",
      "Epoch 39/50\n",
      "125/125 [==============================] - 36s 285ms/step - loss: 0.2771 - acc: 0.9105 - val_loss: 0.2544 - val_acc: 0.9100\n",
      "Epoch 40/50\n",
      "125/125 [==============================] - 36s 291ms/step - loss: 0.2819 - acc: 0.9125 - val_loss: 0.2275 - val_acc: 0.9225\n",
      "Epoch 41/50\n",
      "125/125 [==============================] - 36s 288ms/step - loss: 0.2690 - acc: 0.9145 - val_loss: 0.3564 - val_acc: 0.9062\n",
      "Epoch 42/50\n",
      "125/125 [==============================] - 36s 288ms/step - loss: 0.2900 - acc: 0.9115 - val_loss: 0.3066 - val_acc: 0.9226\n",
      "Epoch 43/50\n",
      "125/125 [==============================] - 36s 289ms/step - loss: 0.2944 - acc: 0.9160 - val_loss: 0.2227 - val_acc: 0.9137\n",
      "Epoch 44/50\n",
      "125/125 [==============================] - 36s 288ms/step - loss: 0.2604 - acc: 0.9110 - val_loss: 0.2898 - val_acc: 0.9125\n",
      "Epoch 45/50\n",
      "125/125 [==============================] - 35s 280ms/step - loss: 0.3028 - acc: 0.9105 - val_loss: 0.2886 - val_acc: 0.9137\n",
      "Epoch 46/50\n",
      "125/125 [==============================] - 35s 282ms/step - loss: 0.2656 - acc: 0.9135 - val_loss: 0.2609 - val_acc: 0.9213\n",
      "Epoch 47/50\n",
      "125/125 [==============================] - 36s 288ms/step - loss: 0.2676 - acc: 0.9270 - val_loss: 0.3307 - val_acc: 0.8925\n",
      "Epoch 48/50\n",
      "125/125 [==============================] - 36s 286ms/step - loss: 0.2996 - acc: 0.9115 - val_loss: 0.2375 - val_acc: 0.9175\n",
      "Epoch 49/50\n",
      "125/125 [==============================] - 35s 280ms/step - loss: 0.3227 - acc: 0.9090 - val_loss: 0.2577 - val_acc: 0.9010\n",
      "Epoch 50/50\n",
      "125/125 [==============================] - 35s 280ms/step - loss: 0.2458 - acc: 0.9215 - val_loss: 0.2560 - val_acc: 0.9012\n"
     ]
    }
   ],
   "source": [
    "savemod = 1\n",
    "if os.path.exists('malaria_weights.h5') and os.path.exists('malaria_model_trained') and os.path.exists('validation_dataframe.csv'):\n",
    "    history = load_model('malaria_model_trained')\n",
    "    history.load_weights('malaria_weights.h5')\n",
    "    x_validation_dataframe.read_csv('validation_dataframe.csv')\n",
    "    savemod = 0\n",
    "\n",
    "else:\n",
    "    history = model.fit_generator(\n",
    "        X_train_generator,\n",
    "        steps_per_epoch=nb_train_samples // batch_size,\n",
    "        epochs=epochs,\n",
    "        validation_data=X_testval_generator,\n",
    "        validation_steps=nb_validation_samples // batch_size)"
   ]
  },
  {
   "cell_type": "markdown",
   "metadata": {},
   "source": [
    "## Plot some graph\n",
    "Saving the model training process to a history variable is usefull to plot the metrics in a graph.\n",
    "In neural network training the training graph are the most usefull tool to benchmark our model and to do optimization of the architecture if needed."
   ]
  },
  {
   "cell_type": "code",
   "execution_count": 19,
   "metadata": {},
   "outputs": [
    {
     "data": {
      "image/png": "[encoded data removed]",
      "text/plain": [
       "<Figure size 432x288 with 1 Axes>"
      ]
     },
     "metadata": {
      "needs_background": "light"
     },
     "output_type": "display_data"
    }
   ],
   "source": [
    "# summarize history for accuracy\n",
    "plt.plot(history.history['acc'])\n",
    "plt.plot(history.history['val_acc'])\n",
    "plt.title('model accuracy')\n",
    "plt.ylabel('accuracy')\n",
    "plt.xlabel('epoch')\n",
    "plt.legend(['train', 'test'], loc='upper left')\n",
    "plt.show()"
   ]
  },
  {
   "cell_type": "markdown",
   "metadata": {},
   "source": [
    "## Save the model\n",
    "\n",
    "After such a long wait for the learning process to come to an end dont forget to save the trained model.\n",
    "There are two way to save the model.\n",
    "1. Save the model weights (that are the result of traing) without model architecture. (this option is used mainly to switch the model to another framework\n",
    "2. Save the entire model (architecture and weights), so that it can be simply loaded up from keras.\n"
   ]
  },
  {
   "cell_type": "code",
   "execution_count": null,
   "metadata": {},
   "outputs": [],
   "source": [
    "# Save weights for further use\n",
    "if savemod:\n",
    "    model.save_weights('malaria_weights.h5')\n",
    "    model.save('malaria_model_trained')\n",
    "    x_validation_dataframe.to_csv('validation_dataframe.csv')"
   ]
  },
  {
   "cell_type": "markdown",
   "metadata": {},
   "source": [
    "Ora testiamo il modello sul dataset di test (nota che il dataset di test è generato randomicamente anche dopo il training del modello)\n",
    "Selezioniamo rows * cols immagini dal dataset in maniera randomica e utilizziamo tale immagini per fare la predict su di loro. "
   ]
  },
  {
   "cell_type": "code",
   "execution_count": 125,
   "metadata": {},
   "outputs": [
    {
     "name": "stdout",
     "output_type": "stream",
     "text": [
      "False Negative:  41\n",
      "False Positive:  10\n"
     ]
    },
    {
     "data": {
      "text/plain": [
       "'\\nrows = 10\\ncols = 5\\nig, ax = plt.subplots(rows, cols, figsize=(24, 24))\\ntoRnd = np.random.randint(low = 0, high = len(X_test), size = rows * cols)\\ncount=0\\nplt.figure(figsize=(64,64))\\nfor i in range(rows):\\n    for j in range(cols):\\n        charstr=\\'\\'\\n        img = Image.open(X_test[toRnd[i+j]])\\n        ax[i][j].imshow(img)\\n        img = img.convert(\"RGB\")\\n        img = img.resize((img_width, img_height), Image.ANTIALIAS)\\n        img = img_to_array(img)\\n        img = img/255.0\\n        img = img.reshape((1,) + img.shape)\\n        pred = model.predict(img)\\n        pred = pred.item(0)\\n        pred = np.round(pred, decimals = 3)\\n        charstr = \\'Uninfected: \\'+ str(pred) + \\'\\nInfected: \\' + str(np.round(1-pred, decimals = 3)) +\\'\\nOrig. Label: \\' + Y_test[toRnd[i+j]]\\n        ec = (0, .8, .1)\\n        fc = (0, .9, .2)\\n        count = count + 1\\n        ax[i][j].text(0, -10, charstr, size=10, rotation=0,\\n                ha=\"left\", va=\"top\", \\n                bbox=dict(boxstyle=\"round\", ec=ec, fc=fc, alpha = 1))\\nplt.setp(ax, xticks=[], yticks=[])\\nplt.tight_layout(pad=0.4, w_pad=0.5, h_pad=1.0)\\n'"
      ]
     },
     "execution_count": 125,
     "metadata": {},
     "output_type": "execute_result"
    }
   ],
   "source": [
    "count=0\n",
    "false_negative = 0\n",
    "false_positive = 0\n",
    "\n",
    "for row in x_validation_dataframe.itertuples(index=True, name='Pandas'):\n",
    "    #print(getattr(row, \"Filename\"), getattr(row, \"Label\"))\n",
    "    img = Image.open(getattr(row, \"Filename\"))\n",
    "    label = getattr(row, \"Label\")\n",
    "    img = img.convert(\"RGB\")\n",
    "    img = img.resize((img_width, img_height), Image.ANTIALIAS)\n",
    "    img = img_to_array(img)\n",
    "    img = img/255.0\n",
    "    img = img.reshape((1,) + img.shape)\n",
    "    pred = model.predict(img)\n",
    "    pred = pred.item(0)\n",
    "    pred = np.round(pred, decimals = 3)\n",
    "    if pred > 0.500 and label == 'Parasitized':\n",
    "        false_negative = false_negative + 1\n",
    "    if pred <= 0.500 and label == 'Uninfected':\n",
    "        false_positive = false_positive + 1\n",
    "    count=count + 1\n",
    "    if count >1000:\n",
    "        break;\n",
    "print(\"False Negative: \", false_negative)\n",
    "print(\"False Positive: \", false_positive)\n",
    "\"\"\"\n",
    "rows = 10\n",
    "cols = 5\n",
    "ig, ax = plt.subplots(rows, cols, figsize=(24, 24))\n",
    "toRnd = np.random.randint(low = 0, high = len(X_test), size = rows * cols)\n",
    "count=0\n",
    "plt.figure(figsize=(64,64))\n",
    "for i in range(rows):\n",
    "    for j in range(cols):\n",
    "        charstr=''\n",
    "        img = Image.open(X_test[toRnd[i+j]])\n",
    "        ax[i][j].imshow(img)\n",
    "        img = img.convert(\"RGB\")\n",
    "        img = img.resize((img_width, img_height), Image.ANTIALIAS)\n",
    "        img = img_to_array(img)\n",
    "        img = img/255.0\n",
    "        img = img.reshape((1,) + img.shape)\n",
    "        pred = model.predict(img)\n",
    "        pred = pred.item(0)\n",
    "        pred = np.round(pred, decimals = 3)\n",
    "        charstr = 'Uninfected: '+ str(pred) + '\\nInfected: ' + str(np.round(1-pred, decimals = 3)) +'\\nOrig. Label: ' + Y_test[toRnd[i+j]]\n",
    "        ec = (0, .8, .1)\n",
    "        fc = (0, .9, .2)\n",
    "        count = count + 1\n",
    "        ax[i][j].text(0, -10, charstr, size=10, rotation=0,\n",
    "                ha=\"left\", va=\"top\", \n",
    "                bbox=dict(boxstyle=\"round\", ec=ec, fc=fc, alpha = 1))\n",
    "plt.setp(ax, xticks=[], yticks=[])\n",
    "plt.tight_layout(pad=0.4, w_pad=0.5, h_pad=1.0)\n",
    "\"\"\""
   ]
  },
  {
   "cell_type": "code",
   "execution_count": null,
   "metadata": {},
   "outputs": [],
   "source": []
  },
  {
   "cell_type": "code",
   "execution_count": null,
   "metadata": {},
   "outputs": [],
   "source": []
  }
 ],
 "metadata": {
  "kernelspec": {
   "display_name": "Python 3",
   "language": "python",
   "name": "python3"
  },
  "language_info": {
   "codemirror_mode": {
    "name": "ipython",
    "version": 3
   },
   "file_extension": ".py",
   "mimetype": "text/x-python",
   "name": "python",
   "nbconvert_exporter": "python",
   "pygments_lexer": "ipython3",
   "version": "3.6.8"
  }
 },
 "nbformat": 4,
 "nbformat_minor": 2
}
