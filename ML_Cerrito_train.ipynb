{
 "cells": [
  {
   "cell_type": "markdown",
   "metadata": {},
   "source": [
    "## Progetto Cerrito - Riconoscimento e classificazione delle cellule malate di malaria\n",
    "\n",
    "Import delle librerie necessarie al funzionamento del codice:"
   ]
  },
  {
   "cell_type": "code",
   "execution_count": 52,
   "metadata": {},
   "outputs": [],
   "source": [
    "import os\n",
    "import random\n",
    "import numpy as np\n",
    "import pandas as pd\n",
    "import matplotlib.pyplot as plt\n",
    "import matplotlib.image as imgplt\n",
    "from sklearn.model_selection import train_test_split\n",
    "import ipywidgets as widgets\n",
    "from PIL import Image\n",
    "from keras.preprocessing.image import ImageDataGenerator, img_to_array\n",
    "from keras.models import Sequential\n",
    "from keras.models import load_model\n",
    "from keras.layers import Conv2D, MaxPooling2D\n",
    "from keras.layers import Flatten, Dense, Dropout\n",
    "from keras import backend as K"
   ]
  },
  {
   "cell_type": "markdown",
   "metadata": {},
   "source": [
    "# Parametri del modello\n",
    "\n",
    "1. __train_data_dir__ ------------> Directory contenente il dataset di training del modello.\n",
    "2. __img_width, img_height__ -----> Dimensioni delle immagini adattate all'uso nel modello (con eventuale ridimensionamento)\n",
    "3. __nb_train_samples__ ----------> Dimensione dei campioni utilizzati nel training\n",
    "4. __nb_validation_samples__ -----> Numero di campioni utilizzati durante il test del modello\n",
    "5. __epochs__ --------------------> Numero di epochs utilizzate per il training del modello\n",
    "6. __batch_size__ ----------------> Numero di campioni utilizzati per ogni singolo passo di training (weights adjustment)"
   ]
  },
  {
   "cell_type": "code",
   "execution_count": 53,
   "metadata": {},
   "outputs": [
    {
     "name": "stdout",
     "output_type": "stream",
     "text": [
      "Directory relativa del dataset:  cell_images/Dataset\n"
     ]
    }
   ],
   "source": [
    "out = widgets.Output(layout={'border': '1px solid black'})\n",
    "out.append_stdout(\"Son\")\n",
    "train_data_dir = os.path.join('cell_images', 'Dataset')\n",
    "\n",
    "print(\"Directory relativa del dataset: \", train_data_dir)\n",
    "\n",
    "img_width, img_height = 64, 64\n",
    "nb_train_samples = 3000\n",
    "nb_validation_samples = 990\n",
    "epochs = 50\n",
    "batch_size = 16"
   ]
  },
  {
   "cell_type": "markdown",
   "metadata": {},
   "source": [
    "# Modello della rete neurale\n",
    "\n",
    "Si imposta la forma di input (shape) verificando l'eventuale dipendenza dal backend __image_data_format__, per uniformare la lettura delle immagini.\n",
    "\n",
    "Si inizializza il modello inserendo __Sequential()__ così da poter utilizzare in maniera sequenziale più livelli ordinati dall'input all'output.\n",
    "![Sequential Model](./doc_images/sequential_model.png)"
   ]
  },
  {
   "cell_type": "code",
   "execution_count": 55,
   "metadata": {},
   "outputs": [],
   "source": [
    "if K.image_data_format() == 'channels_first':\n",
    "    input_shape = (3, img_width, img_height)\n",
    "else:\n",
    "    input_shape = (img_width, img_height, 3)\n",
    "\n",
    "model = Sequential()"
   ]
  },
  {
   "cell_type": "markdown",
   "metadata": {},
   "source": [
    "## 1. Rete Convoluzionale\n",
    "Si aggiunge un layer convoluzionale 2D, per analizzare le immagini in input. Osservando la figura sottostante, vi sono k funzioni kernels che vengono applicate all'immagine e producono un output 2D, detta mappa di attivazione. \n",
    "\n",
    "![Conv2D workflow.](./doc_images/conv2d.png \"Conv2d\")\n",
    "\n",
    "Sarà necessario impostare più layer Conv2D affinchè la rete possa funzionare al meglio. \n",
    "Nel caso specifico si utilizzano 3 layer.\n",
    "\n",
    "Primo layer: l'immagine considerata è una matrice A densa X,Y i cui valori sono vettori: $$v_{i,j} \\in R^3$$\n",
    "__v<sub>i,j</sub>__ rappresenta il pixel dell'immagine, tramite la rappresentazione rgb \n",
    "\n",
    "La matrice A è una matrice densa, tramite i vari livelli di convoluzione, la rete scompone e riduce le informazioni contenute in A, cercando di estrarre solo quelle necessarie. In particolare la Conv2D appplica k funzione kernels su porzioni dell'immagine, per produrre in output una mappa 2D. La mappa viene prodotta tramitte apprendimento di filtri. \n",
    "La complessità della matrice A comporta che al primo livello i filtri appressi sono in numero ridotto. L'uso di più livelli e funzioni Conv2D aumenta il numero di filtri appresi, anche se nel contempo, le informazioni in input vengono ridotte.\n",
    "\n",
    "Per un corretto funzionamento della network si impostino i seguenti parametri:\n",
    "\n",
    "1. Numero di canali in output della Conv2D (nel primo layer a 32)\n",
    "2. __kernel_size__ (cioè una finestra di dimensioni 3x3 che si muove sull'immagine)\n",
    "3. __strides__ (passi) nelle direzioni x e y (1, 1).\n",
    "4. __activation__ funzione di attivazione a \"relu: rectified linear unit\" \n",
    "5. __input_shape__ precedentemente calcolata (necessaria solo per il primo livello)\n",
    "\n",
    "L'apprendimento tramite Conv2D avviene a fasi: \n",
    "1. analizza l'immagine da sinistra verso destra e dall'alto verso il basso. Alla posizione corrente, applica i filtri e calcola la mappa\n",
    "2. verifica che non ha raggiunto il bordo a destra dell'immagine, nel caso si sposta in basso di Y pixel (secondo valore di strides) e al bordo sinistro. Se non è sul bordo destro,  si sposta in avanti di x passi (primo valore di strides) e applica ancora i filtri\n",
    "4. ripete i passi 1 e 2 finchè non copre l'intera immagine e termina\n"
   ]
  },
  {
   "cell_type": "code",
   "execution_count": 56,
   "metadata": {},
   "outputs": [],
   "source": [
    "model.add(Conv2D(32, kernel_size=(3, 3), strides=(1, 1),\n",
    "                 activation='relu',\n",
    "                 input_shape=input_shape))"
   ]
  },
  {
   "cell_type": "markdown",
   "metadata": {},
   "source": [
    "### 1.1 Funzione di attivazione\n",
    "keras permette di utilizzare diverse funzioni di attivazione della convoluzione:\n",
    "\n",
    "![Activation Function](./doc_images/activation_function.png)\n",
    "\n",
    "In particolare la funzione relu, con i parametri di default è definita come (come riportato nella documentazione di Keras):\n",
    "\n",
    "$$relu(x)=max(x,0)$$\n",
    "\n",
    "Altrimenti segue:\n",
    "\n",
    "$$relu(x) =\\begin{cases} maxvalue  & x \\ge maxvalue \\\\ \n",
    "x & threshold \\le x < maxvalue \\\\\n",
    "x - threshold & altrimenti\n",
    "\\end{cases}$$\n"
   ]
  },
  {
   "cell_type": "markdown",
   "metadata": {},
   "source": [
    "### 1.2 Riduzione dei valori di output di Conv2D\n",
    "\n",
    "Per ridurre le dimensioni spaziali dell'output della convoluzione 2D, si applica la funzione __MaxPooling2D()__\n",
    "\n",
    "In particolare con i parametri:\n",
    "1. il numero di input atteso\n",
    "2. __pool_size__ la dimensione del pool\n",
    "3. __strides__ i passi in avanti nelle direzioni x ed y"
   ]
  },
  {
   "cell_type": "code",
   "execution_count": 32,
   "metadata": {},
   "outputs": [],
   "source": [
    "model.add(MaxPooling2D(pool_size=(2, 2), strides=(2, 2)))"
   ]
  },
  {
   "cell_type": "markdown",
   "metadata": {},
   "source": [
    "Come indicato in precendenza aggiungiamo i layer successivi alla deep network:"
   ]
  },
  {
   "cell_type": "code",
   "execution_count": 33,
   "metadata": {},
   "outputs": [],
   "source": [
    "model.add(Conv2D(32, (3, 3), activation='relu'))\n",
    "model.add(MaxPooling2D(pool_size=(2, 2)))\n",
    "model.add(Conv2D(64, (3, 3), activation='relu'))\n",
    "model.add(MaxPooling2D(pool_size=(2, 2)))"
   ]
  },
  {
   "cell_type": "markdown",
   "metadata": {},
   "source": [
    "## 2. Dense layer (connessione completa)\n",
    "\n",
    "Per poter porcede alla classificazione delle immagini, dobbiamo valutare i dati in output della sottorete di convoluzione. Il modo migliore per farlo è pesare i dati ottenuti tramite l'uso di una sottorete fully connected. La __Dense()__ è rete neurale di n neuroni completamente connessi, la cui funzione è calcorare i pesi associati ai dati in input.\n",
    "\n",
    "I parametri impostati:\n",
    "1. il numero di valori in input attesi\n",
    "2. __activation__ la funzione di attivazione\n",
    "\n",
    "Il primo strato pesa i valori utilizzando la funzione relu, come definita in precendeza, in maniera da essere coerente con la rete di convoluzione. Il secondo strato, partendo dai pesi precedenti, esegue effettivamente la classificazione, nel caso specifico la classificazioni binaria, tramite la funzione di attivazione sigmoid: \n",
    "\n",
    "$$sigmoid(x) ={1 \\over 1+e^{-x}}= {e^x \\over 1 + e^x}$$\n",
    "\n",
    "Interposta tra i due livelli Dense vi è la funzione __Dropout__, che imposta casualmente una percentuale di valori in input a 0 durante la valutazione, per prevenire ulteriormente l'overfitting.\n",
    "\n",
    "La funzione __Flatten()__ partendo da un tensore multidimensionale, produce in output un tensore mono dimensionale. Il suo utilizzo è necessario per poter generare l'input della sottorete fully connected."
   ]
  },
  {
   "cell_type": "code",
   "execution_count": 35,
   "metadata": {},
   "outputs": [],
   "source": [
    "model.add(Flatten())\n",
    "model.add(Dense(64, activation='relu'))\n",
    "model.add(Dropout(0.5))\n",
    "model.add(Dense(1, activation='sigmoid'))"
   ]
  },
  {
   "cell_type": "markdown",
   "metadata": {},
   "source": [
    "I passi fatti fino ad ora, hanno permesso di definire il modello della deep network. Dal modello, si genera la rete tramite la funzione __model.compile()__\n",
    "\n",
    "i parametri utilizzati per generare la network:\n",
    "1. La funzione di loss (perdita) da minimizzare\n",
    "2. La funzione di ottimizzazione, utilizzata nel processo di apprendimento\n",
    "3. La metrica utilizzata per valutare il modello generato\n",
    "\n",
    "La classificazione che il modello prevede è una clssificazione binaria. Definendo le classi attese come: $$y \\in {(0,1)}$$ la funzione di loss associata:\n",
    "$$H_p(q)=-{1 \\over N}\\sum\\limits_{i=1}^{N}y_i \\log(p(y_i))+ (1-y_i) \\log((1-p(y_i))$$\n",
    "\n",
    "e p(y) è la probabilità che y appartenga alla classe 1, viceversa 1-p(y) che appartenga alla classe 0.\n",
    "\n",
    "Analizzando la formula, si nota che per ogni punto y = 1, aggiunge il valore log(p(y)) alla funzione loss, la log probabilità di appartenere alla classe 1. viceversa, aggiunge log(1-p(y)), la log porbabilità di appartenere alla classe 0.\n",
    "\n",
    "Poichè si sta valutando una funzione di perdita, si vuole penalizzare le predizioni errate. Se la probabilità associata è 1.0 e la classe è giusta, la loss deve essere 0, se la probabilità associata risulta essere vicino allo zero ma la classe è quella esatta, cioè abbiamo una predizione errata, la funzione loss deve essere elevata.\n",
    "L'uso della funzione log, visto che il log dei valori compresi tra 0 ed 1 è negativo, prendendo il -log nella funzione, otteniamo valori positivi per la funzione loss. \n",
    "\n",
    "#### Entropia\n",
    "L'entropia è la misura dell'incertezza associata ad una distribuzione data q(y). Per capire, se i punti dati appartenessero tutti ad una sola classe, esempio verde, l'entropia risulta essere 0, visto che predire il colore equivale ad essere certi che il colore sia giusto, coiè verde. viceversa, nel caso peggiore in cui i punti sono metà del colore verde e metà del colore rosso, non vi è nessuna possibilà di poter predire il colore, in tal caso l'entropia (l'incertezza di cosa uscirà) è massima.\n",
    "L'entropia per la classificazione su C classi:\n",
    "$$H(q)=-\\sum\\limits_{i=1}^{C}q(y_i) \\log (q(y_i))$$\n",
    "\n",
    "Per cui, conoscendo la vera distribuzione di una variabile, possiamo calcolare la sua entropia.\n",
    "\n",
    "#### Cross Entropia\n",
    "Si supponga che i punti siano approssiamti da una distribuzione nota p(y), ma che la loro vera distribuzione si q(y) e sia sconosciuta. Se calcoliamo l'entropia, cioè la cross entropia tra le due distribuzioni:\n",
    "$$H_p(q)=-\\sum\\limits_{i=1}^{C}q(y_i) \\log(p(y_i))$$\n",
    "\n",
    "Se la distribuzione p(y) è uguale a q(y) per ogni valore, allora la cross entropia così calcolata è uguale all'entropia. Ma ne caso reale, la cross entropia assume un valore più grande dell'entropia:\n",
    "$$H_p(q) - H(q) > 0$$\n",
    "\n",
    "#### rmprop\n",
    "Per spiegare rmprop si intorduce il concetto di discesa del gradiente e la variante discesa col gradiente con momento.\n",
    "\n",
    "La discesa dei gradienti è uno degli ottimizzatori più utilizzato, è un metodo semplice ed efficace per trovare i valori ottimali per la rete neurale. L'obiettivo di tutti gli ottimizzatori è di raggiungere i minimi globali laddove la funzione di costo raggiunge il minor valore possibile. Un esempio:\n",
    "\n",
    "![gradiente](./doc_images/grad1.jpg)\n",
    "\n",
    "L'algoritmo, ad ogni passo:\n",
    "1. calcola il valore predetto dalla rete neuarale\n",
    "2. calcola ilv alore della funzione di loss\n",
    "3. calcola il gradiente tramite le derivate parziali della funzione di loss\n",
    "4. usa i gradienti calcolati per aggiornare i pesi ed il bias\n",
    "\n",
    "Come dalla figuar si parte dal punto A, dove il vaolre della funzione costo è elevato. Man mano che si applica l'algoritmo, cioè viene fatto il training della rete neurale, viene ridotto la funzione costo e tende verso il minimo B. Nella figura sottostante si vede una simulazione di training:\n",
    "\n",
    "![gradiente simulazione](./doc_images/grad2.gif)\n",
    "\n",
    "L'algoritmo così come definito funzione correttamente sulle funzioni convesse, ma spesso le funzioni considerate non lo sono, si consideri ad esempio:\n",
    "\n",
    "![funzione non convessa](./doc_images/grad3.png)\n",
    "\n",
    "La funzione presenta massimi e minimi locali. La discesa del gradiente, se si trova vicino un minimo locale, può convergere ad esso e non andare verso invece il minimo globale, presentando risultati errati. Esistono algoritmi che permettono di ridurre il problema dei minimi locali.\n",
    "\n",
    "Osserviamo l'immagine:\n",
    "\n",
    "![momentum example](./doc_images/mom1.png)\n",
    "\n",
    "L'algoritmo standard si muove in entrambe le direzioni x ed y in equal misura, ma se l'algortimo fosse in grado di ridurre i passi nella direzione y e si concentrasse sulla direzione x, convergerebbe alla soluzione molto più rapidamente.\n",
    "l'introduzione del momento, limita l'oscillazione in una direzione in modo che l'algoritmo possa convergere più velocemente. A maggior vantaggio, visto che i passi eseguiti nella direzione y sono limitati, è possibile impostare un tasso di apprendimento più elevato. Le equazioni del calcolo dei gradienti da parte dell'algoritmo con quantità di moto, dove beta è il momento e di norma viene posto a 0.9:\n",
    "\n",
    "$$v_{dw}=\\beta v_{dw} + (1-\\beta)dw$$\n",
    "$$v_{db}=\\beta v_{dw} + (1-\\beta)db$$\n",
    "$$W = W - \\alpha v_{dw}$$\n",
    "$$b = b - \\alpha v_{db}$$\n",
    "\n",
    "Ora, dopo aver introdotto la discesa del gradiente e il momento, si può descrivere correttamente l'ottimizzatore rmprop.\n",
    "RMSprop è molto simile all'algoritmo di discesa del gradiente con momento, infatti limita le oscillazioni nella direzione verticale. Pertanto, si può aumentare il tasso di apprendimento ed ingrandire i passi  nella direzione orizzontale, convergendo più velocemente. La differenza tra RMSprop e discesa del gradiente è nel modo in cui sono calcolati i gradienti. le equazioni:\n",
    "\n",
    "$$v_{dw}=\\beta v_{dw} + (1-\\beta)d{w^2}$$\n",
    "$$v_{db}=\\beta v_{dw} + (1-\\beta)d{b^2}$$\n",
    "$$ W = {W - \\alpha {dw \\over \\sqrt {v_{dw}}+ \\epsilon}}$$\n",
    "$$b = {b - \\alpha {db \\over \\sqrt{v_{db}} + \\epsilon}}$$\n",
    "\n",
    "Il parametro epsilon viene introdotto per evitare che se v<sub>dw</sub> è vicino allo zero, il gradiente possa esplodere.\n",
    "\n",
    "#### metrics\n",
    "viene impostata alla metrica di default __categorical_accuracy__, che calcola il tasso medio di accuratezza in tutte le previsioni per i problemi di classificazione multiclasse."
   ]
  },
  {
   "cell_type": "code",
   "execution_count": 36,
   "metadata": {},
   "outputs": [],
   "source": [
    "model.compile(loss='binary_crossentropy',\n",
    "              optimizer='rmsprop',\n",
    "              metrics=['accuracy'])"
   ]
  },
  {
   "cell_type": "markdown",
   "metadata": {},
   "source": [
    "## Preparazione dei dati per la rete\n",
    "\n",
    "\n",
    "Per convenzione si assegnato le seguenti label, a partire dalla directory di input:\n",
    "1. unifected = 0\n",
    "2. parasitized = 1\n",
    "\n",
    "non avendo a disposizione due dataset per fare training e verifica, si divide il dataset in tre parti:\n",
    "1. training set (training)\n",
    "2. test set (training)\n",
    "3. validation (prediction time)\n",
    "\n",
    "Si procede dividendo il dataset al 20% dedicato al dataset di test, utilizzato durante il training nella fase di test. Il rimante dataset viene ulteriormente suddivio al 50% tra training e validation. "
   ]
  },
  {
   "cell_type": "code",
   "execution_count": 37,
   "metadata": {},
   "outputs": [],
   "source": [
    "data = []\n",
    "uninfected = os.listdir(train_data_dir+\"/Uninfected\")\n",
    "parasitized = os.listdir(train_data_dir+\"/Parasitized\")\n",
    "\n",
    "for i in uninfected:\n",
    "    data.append([train_data_dir+\"/Uninfected/\"+i,'Uninfected'])\n",
    "for i in parasitized:\n",
    "    data.append([train_data_dir+\"/Parasitized/\"+i,'Parasitized'])\n",
    "random.shuffle(data)\n",
    "image = [i[0] for i in data]\n",
    "label = [i[1] for i in data]\n",
    "del data\n",
    "\n",
    "X_train, X_test, Y_train, Y_test = train_test_split(image, label, test_size=0.2, random_state=42)\n",
    "X_train, X_val, Y_train, Y_val = train_test_split(X_train, Y_train, test_size=0.5, random_state=46)\n"
   ]
  },
  {
   "cell_type": "markdown",
   "metadata": {},
   "source": [
    "Keras permette di utilizzare la classe __ImageDataGenerator()__ per generare un nuovo dataflow a partire da una directory su filesystem per generare l'input del nostro modello di training. \n",
    "\n",
    "Si applicheranno nel seguito anche le funzioni di trasformazioni delle immagini, affinchè il modello non veda due volte di seguito la stessa immagine ed eseguire il training più accurato, evitando (o almeno riducendo drasticamente) il problema dell'overfitting. Inoltre il modello risultante sarà più generalizzato.\n",
    "\n",
    "I parametri impostati sono:\n",
    "\n",
    "* __rotation_range__ valore in gradi compreso tra 0 e 180°, con il quale il modello ruoterà randomicamente le immagini.\n",
    "* __width_shift__ e __height_shift__ intervalli dati come frazioni delle dimensioni totali di cui il modello transla orizzontalmente e verticalmente le immagini randomicamente.\n",
    "* __rescale__  è un valore con cui saranno riscalati i dati in input prima di qualsiasi altro processo. Le immagini originali consistono in coefficienti RGB dati come valori tra 0 e 255, ma tali valori sono troppo alti per il modello, si riscalano a valori compresi tra 0 e 1 .\n",
    "* __shear_range__ percentuale di applicazione di funzioni di taglio randomiche\n",
    "* __zoom_range__ percentuale di applicazione di funzioni di zoom randomiche.\n",
    "* __horizontal_flip__  per capovolgere metà delle immagini orizzontalmente, vale a dire quando non ci sono assunzioni di asimmetria orizzontale (ad esempio nel caso di immagini reali)\n",
    "* __fill_mode__ è la funzione utilizzata per generare i pixel che potrebbero essere creati dalla funzione di rotazione o dalla translazione."
   ]
  },
  {
   "cell_type": "code",
   "execution_count": 38,
   "metadata": {},
   "outputs": [],
   "source": [
    "train_datagen = ImageDataGenerator(\n",
    "        rotation_range=40,\n",
    "        width_shift_range=0.2,\n",
    "        height_shift_range=0.2,\n",
    "        rescale=1./255,\n",
    "        shear_range=0.2,\n",
    "        zoom_range=0.2,\n",
    "        horizontal_flip=True,\n",
    "        fill_mode='nearest')"
   ]
  },
  {
   "cell_type": "markdown",
   "metadata": {},
   "source": [
    "## Caricamento immagini da una directory (e relative sottodirectory)\n",
    "\n",
    "Si generano i dataframe a partire dai dataset generati in precendenza, tabelle che associano il filename alla label. Si ricorda che  X_name sono i nome dei file dele immagini, Y_name le label associate, per tutti i dataset considerati."
   ]
  },
  {
   "cell_type": "code",
   "execution_count": 39,
   "metadata": {},
   "outputs": [
    {
     "data": {
      "text/html": [
       "<div>\n",
       "<style scoped>\n",
       "    .dataframe tbody tr th:only-of-type {\n",
       "        vertical-align: middle;\n",
       "    }\n",
       "\n",
       "    .dataframe tbody tr th {\n",
       "        vertical-align: top;\n",
       "    }\n",
       "\n",
       "    .dataframe thead th {\n",
       "        text-align: right;\n",
       "    }\n",
       "</style>\n",
       "<table border=\"1\" class=\"dataframe\">\n",
       "  <thead>\n",
       "    <tr style=\"text-align: right;\">\n",
       "      <th></th>\n",
       "      <th>Filename</th>\n",
       "      <th>Label</th>\n",
       "    </tr>\n",
       "  </thead>\n",
       "  <tbody>\n",
       "    <tr>\n",
       "      <th>0</th>\n",
       "      <td>cell_images/Dataset/Uninfected/C37BP2_thinF_IM...</td>\n",
       "      <td>Uninfected</td>\n",
       "    </tr>\n",
       "    <tr>\n",
       "      <th>1</th>\n",
       "      <td>cell_images/Dataset/Parasitized/C132P93ThinF_I...</td>\n",
       "      <td>Parasitized</td>\n",
       "    </tr>\n",
       "    <tr>\n",
       "      <th>2</th>\n",
       "      <td>cell_images/Dataset/Uninfected/C77P38ThinF_IMG...</td>\n",
       "      <td>Uninfected</td>\n",
       "    </tr>\n",
       "    <tr>\n",
       "      <th>3</th>\n",
       "      <td>cell_images/Dataset/Uninfected/C56P17thinF_IMG...</td>\n",
       "      <td>Uninfected</td>\n",
       "    </tr>\n",
       "  </tbody>\n",
       "</table>\n",
       "</div>"
      ],
      "text/plain": [
       "                                            Filename        Label\n",
       "0  cell_images/Dataset/Uninfected/C37BP2_thinF_IM...   Uninfected\n",
       "1  cell_images/Dataset/Parasitized/C132P93ThinF_I...  Parasitized\n",
       "2  cell_images/Dataset/Uninfected/C77P38ThinF_IMG...   Uninfected\n",
       "3  cell_images/Dataset/Uninfected/C56P17thinF_IMG...   Uninfected"
      ]
     },
     "execution_count": 39,
     "metadata": {},
     "output_type": "execute_result"
    }
   ],
   "source": [
    "x_train_dataframe = pd.DataFrame({'Filename':X_train, 'Label':Y_train})\n",
    "x_testval_dataframe = pd.DataFrame({'Filename':X_test, 'Label':Y_test})\n",
    "x_validation_dataframe = pd.DataFrame({'Filename':X_val, 'Label':Y_val})\n",
    "\n",
    "x_train_dataframe.head(4)"
   ]
  },
  {
   "cell_type": "markdown",
   "metadata": {},
   "source": [
    "## Training e test generator\n",
    "\n",
    "Keras tra le varie funzioni, mette a disposizione __flow_from_dataframe__, che carica le immagini applicando anche delle trasformazioni a partire dai dataframe generati in precedenza, nel caso specifico indicando la batch_size e le dimensioni a cui riscalare le immagini.\n",
    "\n",
    "Si pone inoltre il parametro __directory__ a None, visto che nell'X_train e nel X_test sono già specificati i percorsi delle immagini."
   ]
  },
  {
   "cell_type": "code",
   "execution_count": 40,
   "metadata": {},
   "outputs": [
    {
     "name": "stdout",
     "output_type": "stream",
     "text": [
      "Found 11023 validated image filenames belonging to 2 classes.\n",
      "Found 5512 validated image filenames belonging to 2 classes.\n"
     ]
    }
   ],
   "source": [
    "X_train_generator = train_datagen.flow_from_dataframe(dataframe = x_train_dataframe,directory = None, x_col = 'Filename', y_col = 'Label', class_mode = 'binary', batch_size = batch_size, target_size=(img_width, img_height))\n",
    "X_testval_generator = train_datagen.flow_from_dataframe(dataframe = x_testval_dataframe,directory = None, x_col = 'Filename', y_col = 'Label', class_mode = 'binary', batch_size = batch_size, target_size=(img_width, img_height))"
   ]
  },
  {
   "cell_type": "markdown",
   "metadata": {},
   "source": [
    "# Modello Generato\n",
    "\n",
    "Si può riassumere il modello generato dalle impostazioni precedenti con la funzione __summary__:"
   ]
  },
  {
   "cell_type": "code",
   "execution_count": 41,
   "metadata": {},
   "outputs": [
    {
     "name": "stdout",
     "output_type": "stream",
     "text": [
      "_________________________________________________________________\n",
      "Layer (type)                 Output Shape              Param #   \n",
      "=================================================================\n",
      "conv2d_4 (Conv2D)            (None, 62, 62, 32)        896       \n",
      "_________________________________________________________________\n",
      "max_pooling2d_4 (MaxPooling2 (None, 31, 31, 32)        0         \n",
      "_________________________________________________________________\n",
      "conv2d_5 (Conv2D)            (None, 29, 29, 32)        9248      \n",
      "_________________________________________________________________\n",
      "max_pooling2d_5 (MaxPooling2 (None, 14, 14, 32)        0         \n",
      "_________________________________________________________________\n",
      "conv2d_6 (Conv2D)            (None, 12, 12, 64)        18496     \n",
      "_________________________________________________________________\n",
      "max_pooling2d_6 (MaxPooling2 (None, 6, 6, 64)          0         \n",
      "_________________________________________________________________\n",
      "flatten_2 (Flatten)          (None, 2304)              0         \n",
      "_________________________________________________________________\n",
      "dense_3 (Dense)              (None, 64)                147520    \n",
      "_________________________________________________________________\n",
      "dropout_2 (Dropout)          (None, 64)                0         \n",
      "_________________________________________________________________\n",
      "dense_4 (Dense)              (None, 1)                 65        \n",
      "=================================================================\n",
      "Total params: 176,225\n",
      "Trainable params: 176,225\n",
      "Non-trainable params: 0\n",
      "_________________________________________________________________\n"
     ]
    }
   ],
   "source": [
    "model.summary()"
   ]
  },
  {
   "cell_type": "markdown",
   "metadata": {},
   "source": [
    "## Training del modello\n",
    "\n",
    "Si verifica l'esistenza dei file __malaria_weights.h5__, __malaria_model_trained__ e __validation_dataframe.csv__, nel qual caso vengono caricati, assumendo che il training della network sia già stato fatto in precendenza, altrimenti si procede al training della rete.\n",
    "\n",
    "Essendo stati utilizzati i generator di keras, il training sarà fatto tramite la funzione __fit_generator__, con i parametri:\n",
    "\n",
    "1. Il training dataset\n",
    "2. __step_per_epoch__ i passi necessari per ogni epoch, calcolato come il numero di campioni di training diviso la dimensione di batch.\n",
    "3. __epochs__ il numero di epoch con cui si farà il training del modello.\n",
    "4. __validation_data__ il dataset di test per validare il modello.\n",
    "5. __validation_steps__ i passi necessari per ogni epoch per la validazione, calcolato come il numero di campioni di test diviso la dimensione di batch.\n"
   ]
  },
  {
   "cell_type": "code",
   "execution_count": 43,
   "metadata": {},
   "outputs": [
    {
     "name": "stdout",
     "output_type": "stream",
     "text": [
      "Epoch 1/50\n",
      "187/187 [==============================] - 55s 295ms/step - loss: 0.7020 - acc: 0.5060 - val_loss: 0.6948 - val_acc: 0.4928\n",
      "Epoch 2/50\n",
      "187/187 [==============================] - 52s 277ms/step - loss: 0.6506 - acc: 0.6464 - val_loss: 0.5851 - val_acc: 0.6814\n",
      "Epoch 3/50\n",
      "187/187 [==============================] - 51s 275ms/step - loss: 0.4659 - acc: 0.8025 - val_loss: 0.3529 - val_acc: 0.8627\n",
      "Epoch 4/50\n",
      "187/187 [==============================] - 51s 272ms/step - loss: 0.3397 - acc: 0.8639 - val_loss: 0.3651 - val_acc: 0.8402\n",
      "Epoch 5/50\n",
      "187/187 [==============================] - 51s 270ms/step - loss: 0.3290 - acc: 0.8783 - val_loss: 0.2977 - val_acc: 0.9068\n",
      "Epoch 6/50\n",
      "187/187 [==============================] - 50s 270ms/step - loss: 0.3062 - acc: 0.8937 - val_loss: 0.3179 - val_acc: 0.8781\n",
      "Epoch 7/50\n",
      "187/187 [==============================] - 51s 272ms/step - loss: 0.3013 - acc: 0.8964 - val_loss: 0.2638 - val_acc: 0.9160\n",
      "Epoch 8/50\n",
      "187/187 [==============================] - 50s 270ms/step - loss: 0.2895 - acc: 0.9017 - val_loss: 0.3324 - val_acc: 0.8822\n",
      "Epoch 9/50\n",
      "187/187 [==============================] - 51s 274ms/step - loss: 0.3067 - acc: 0.8977 - val_loss: 0.3561 - val_acc: 0.8996\n",
      "Epoch 10/50\n",
      "187/187 [==============================] - 51s 271ms/step - loss: 0.3217 - acc: 0.9004 - val_loss: 0.2918 - val_acc: 0.8955\n",
      "Epoch 11/50\n",
      "187/187 [==============================] - 50s 268ms/step - loss: 0.2983 - acc: 0.8977 - val_loss: 0.2643 - val_acc: 0.9057\n",
      "Epoch 12/50\n",
      "187/187 [==============================] - 50s 270ms/step - loss: 0.2878 - acc: 0.9074 - val_loss: 0.2782 - val_acc: 0.9205\n",
      "Epoch 13/50\n",
      "187/187 [==============================] - 50s 266ms/step - loss: 0.3035 - acc: 0.9004 - val_loss: 0.2474 - val_acc: 0.9170\n",
      "Epoch 14/50\n",
      "187/187 [==============================] - 51s 274ms/step - loss: 0.3009 - acc: 0.8934 - val_loss: 0.2357 - val_acc: 0.9201\n",
      "Epoch 15/50\n",
      "187/187 [==============================] - 51s 271ms/step - loss: 0.2890 - acc: 0.9060 - val_loss: 0.2948 - val_acc: 0.9098\n",
      "Epoch 16/50\n",
      "187/187 [==============================] - 51s 272ms/step - loss: 0.3231 - acc: 0.8984 - val_loss: 0.2658 - val_acc: 0.9201\n",
      "Epoch 17/50\n",
      "187/187 [==============================] - 50s 268ms/step - loss: 0.2542 - acc: 0.9171 - val_loss: 0.2503 - val_acc: 0.9132\n",
      "Epoch 18/50\n",
      "187/187 [==============================] - 51s 271ms/step - loss: 0.2862 - acc: 0.9051 - val_loss: 0.3074 - val_acc: 0.8842\n",
      "Epoch 19/50\n",
      "187/187 [==============================] - 50s 268ms/step - loss: 0.2700 - acc: 0.9037 - val_loss: 0.3186 - val_acc: 0.9109\n",
      "Epoch 20/50\n",
      "187/187 [==============================] - 51s 272ms/step - loss: 0.2900 - acc: 0.9108 - val_loss: 0.2543 - val_acc: 0.9109\n",
      "Epoch 21/50\n",
      "187/187 [==============================] - 51s 271ms/step - loss: 0.3047 - acc: 0.8971 - val_loss: 0.2951 - val_acc: 0.9047\n",
      "Epoch 22/50\n",
      "187/187 [==============================] - 51s 271ms/step - loss: 0.2941 - acc: 0.9071 - val_loss: 0.2206 - val_acc: 0.9150\n",
      "Epoch 23/50\n",
      "187/187 [==============================] - 51s 271ms/step - loss: 0.2963 - acc: 0.8960 - val_loss: 0.2057 - val_acc: 0.9246\n",
      "Epoch 24/50\n",
      "187/187 [==============================] - 50s 267ms/step - loss: 0.2656 - acc: 0.9118 - val_loss: 0.2555 - val_acc: 0.9242\n",
      "Epoch 25/50\n",
      "187/187 [==============================] - 50s 268ms/step - loss: 0.2886 - acc: 0.9041 - val_loss: 0.2305 - val_acc: 0.9191\n",
      "Epoch 26/50\n",
      "187/187 [==============================] - 51s 271ms/step - loss: 0.2996 - acc: 0.9040 - val_loss: 1.1254 - val_acc: 0.6301\n",
      "Epoch 27/50\n",
      "187/187 [==============================] - 51s 271ms/step - loss: 0.2959 - acc: 0.9078 - val_loss: 0.2827 - val_acc: 0.8934\n",
      "Epoch 28/50\n",
      "187/187 [==============================] - 51s 273ms/step - loss: 0.3066 - acc: 0.9021 - val_loss: 0.3121 - val_acc: 0.9170\n",
      "Epoch 29/50\n",
      "187/187 [==============================] - 50s 267ms/step - loss: 0.2913 - acc: 0.9091 - val_loss: 0.2397 - val_acc: 0.9205\n",
      "Epoch 30/50\n",
      "187/187 [==============================] - 50s 266ms/step - loss: 0.2687 - acc: 0.9093 - val_loss: 0.2399 - val_acc: 0.9283\n",
      "Epoch 31/50\n",
      "187/187 [==============================] - 50s 270ms/step - loss: 0.2748 - acc: 0.9088 - val_loss: 0.2505 - val_acc: 0.9283\n",
      "Epoch 32/50\n",
      "187/187 [==============================] - 51s 273ms/step - loss: 0.3053 - acc: 0.9041 - val_loss: 0.2716 - val_acc: 0.9139\n",
      "Epoch 33/50\n",
      "187/187 [==============================] - 51s 271ms/step - loss: 0.2690 - acc: 0.9128 - val_loss: 0.2464 - val_acc: 0.9150\n",
      "Epoch 34/50\n",
      "187/187 [==============================] - 51s 270ms/step - loss: 0.2857 - acc: 0.9027 - val_loss: 0.2142 - val_acc: 0.9246\n",
      "Epoch 35/50\n",
      "187/187 [==============================] - 51s 274ms/step - loss: 0.2590 - acc: 0.9154 - val_loss: 0.2237 - val_acc: 0.9191\n",
      "Epoch 36/50\n",
      "187/187 [==============================] - 52s 277ms/step - loss: 0.2823 - acc: 0.9074 - val_loss: 0.2855 - val_acc: 0.9283\n",
      "Epoch 37/50\n",
      "187/187 [==============================] - 51s 271ms/step - loss: 0.3103 - acc: 0.8987 - val_loss: 0.2815 - val_acc: 0.9252\n",
      "Epoch 38/50\n",
      "187/187 [==============================] - 50s 266ms/step - loss: 0.2965 - acc: 0.9068 - val_loss: 0.2758 - val_acc: 0.9109\n",
      "Epoch 39/50\n",
      "187/187 [==============================] - 50s 269ms/step - loss: 0.3042 - acc: 0.9054 - val_loss: 0.1994 - val_acc: 0.9395\n",
      "Epoch 40/50\n",
      "187/187 [==============================] - 51s 271ms/step - loss: 0.3100 - acc: 0.8997 - val_loss: 0.2296 - val_acc: 0.9339\n",
      "Epoch 41/50\n",
      "187/187 [==============================] - 51s 270ms/step - loss: 0.2991 - acc: 0.9037 - val_loss: 0.2832 - val_acc: 0.8996\n",
      "Epoch 42/50\n",
      "187/187 [==============================] - 50s 270ms/step - loss: 0.3245 - acc: 0.9064 - val_loss: 0.2464 - val_acc: 0.9232\n",
      "Epoch 43/50\n",
      "187/187 [==============================] - 50s 267ms/step - loss: 0.2904 - acc: 0.9054 - val_loss: 0.2591 - val_acc: 0.8986\n",
      "Epoch 44/50\n",
      "187/187 [==============================] - 51s 271ms/step - loss: 0.3106 - acc: 0.9101 - val_loss: 0.3365 - val_acc: 0.9139\n",
      "Epoch 45/50\n",
      "187/187 [==============================] - 51s 271ms/step - loss: 0.2979 - acc: 0.9030 - val_loss: 0.2758 - val_acc: 0.9170\n",
      "Epoch 46/50\n",
      "187/187 [==============================] - 51s 274ms/step - loss: 0.3189 - acc: 0.9037 - val_loss: 0.2209 - val_acc: 0.9318\n",
      "Epoch 47/50\n",
      "187/187 [==============================] - 51s 272ms/step - loss: 0.3012 - acc: 0.9027 - val_loss: 0.2438 - val_acc: 0.9221\n",
      "Epoch 48/50\n",
      "187/187 [==============================] - 51s 275ms/step - loss: 0.2747 - acc: 0.9144 - val_loss: 0.3020 - val_acc: 0.9078\n",
      "Epoch 49/50\n",
      "187/187 [==============================] - 52s 276ms/step - loss: 0.3090 - acc: 0.9017 - val_loss: 0.2631 - val_acc: 0.9221\n",
      "Epoch 50/50\n",
      "187/187 [==============================] - 51s 271ms/step - loss: 0.2656 - acc: 0.9161 - val_loss: 0.2709 - val_acc: 0.9211\n"
     ]
    }
   ],
   "source": [
    "savemod = 1\n",
    "if os.path.exists('saved_model/malaria_weights.h5') and os.path.exists('saved_model/malaria_model_trained.mod') and os.path.exists('saved_model/validation_dataframe.csv'):\n",
    "    history = load_model('saved_model/malaria_model_trained.mod')\n",
    "    history.load_weights('saved_model/malaria_weights.h5')\n",
    "    x_validation_dataframe = pd.read_csv('saved_model/validation_dataframe.csv')\n",
    "    savemod = 0\n",
    "\n",
    "else:\n",
    "    history = model.fit_generator(\n",
    "        X_train_generator,\n",
    "        steps_per_epoch=nb_train_samples // batch_size,\n",
    "        epochs=epochs,\n",
    "        validation_data=X_testval_generator,\n",
    "        validation_steps=nb_validation_samples // batch_size)"
   ]
  },
  {
   "cell_type": "markdown",
   "metadata": {},
   "source": [
    "# Validità del modello\n",
    "## 1. Informazioni loss e accuracy\n",
    "Si può valutare il funzionamento del modello e come è stato eseguito il training, tramite __evaluate_generator__, utilizzando il dataset di test (Validation), mostrando i valori di loss e accuracy:"
   ]
  },
  {
   "cell_type": "code",
   "execution_count": 44,
   "metadata": {},
   "outputs": [
    {
     "name": "stdout",
     "output_type": "stream",
     "text": [
      "Loss sul dataset di test: 0.280184844348802\n",
      "Accuracy sul dataset di test: 0.9215793304221251\n"
     ]
    }
   ],
   "source": [
    "step_size_testval = X_testval_generator.n // batch_size\n",
    "score=model.evaluate_generator(generator=X_testval_generator,steps=step_size_testval, verbose=0)\n",
    "print('Loss sul dataset di test:', score[0])\n",
    "print('Accuracy sul dataset di test:', score[1])\n"
   ]
  },
  {
   "cell_type": "markdown",
   "metadata": {},
   "source": [
    "## 2. Plot del grafico\n",
    "Con il salvataggio del processo di training, si ha la possibilità di stampare le metriche e rappresentarle tramite un grafico. \n",
    "Osservando il grafico, si nota già che circa dopo solo 10 epochs, il modello sale  a circa il 90% di accuracy sul dataset di training e su quello di testing. Si potrebbe obiettare che sul dataset di test l'accuracy non è delle migliori, si attesta intorno al 50%, volutamente si mantiene il modello in queste circostanze, per evitare di avere overfitting sui dati. \n",
    "\n",
    "Cambiando alcuni parametri del modello, tra le varie impostazioni aumentare l'input del secondo layer convoluzionale, da 32 a 64 e del terzo layer da 64 a 128, aumentare anche la dimensione delle immagini, aumentare anche il numero di epochs, il modello migliorerebbe sensibilmente, pena l'aumento esponenziale del tempo di training della rete. Visto l'hardware a disposizione poco adatto ad eseguire processi di Machine Learning pesanti, si accetta il compromesso scelto, che comunque da ottimi risultati."
   ]
  },
  {
   "cell_type": "code",
   "execution_count": 45,
   "metadata": {},
   "outputs": [
    {
     "data": {
      "image/png": "[encoded data removed]",
      "text/plain": [
       "<Figure size 432x288 with 1 Axes>"
      ]
     },
     "metadata": {
      "needs_background": "light"
     },
     "output_type": "display_data"
    }
   ],
   "source": [
    "plt.plot(history.history['acc'])\n",
    "plt.plot(history.history['val_acc'])\n",
    "plt.title('model accuracy')\n",
    "plt.ylabel('accuracy')\n",
    "plt.xlabel('epoch')\n",
    "plt.legend(['train', 'test'], loc='upper left')\n",
    "plt.show()"
   ]
  },
  {
   "cell_type": "markdown",
   "metadata": {},
   "source": [
    "## Salvataggio del modello\n",
    "\n",
    "Per salvare il modello dopo l'apprendimento, si devono salvare:\n",
    "\n",
    "1. I pesi risultanti del modello (weights). Non viene salvata l'architettura. (Può essere utile se si vuole spostare il modello su un diverso framework)\n",
    "2. Si salva l'intera archietettura del modello, permettendo a keras di poterlo utilizzare\n",
    "3. Si salva __x_validation_dataframe__ su csv, utile qualora si rifaccia una predict e si vuole avere a disposizione delle immagini che non sono state utilizzate per il training del modello. Si ricorda che i dataset sono suddivisi in maniera casuale.\n"
   ]
  },
  {
   "cell_type": "code",
   "execution_count": 46,
   "metadata": {},
   "outputs": [],
   "source": [
    "if savemod:\n",
    "    model.save_weights('saved_model/malaria_weights.h5')\n",
    "    model.save('saved_model/malaria_model_trained.mod')\n",
    "    x_validation_dataframe.to_csv('saved_model/validation_dataframe.csv')"
   ]
  },
  {
   "cell_type": "markdown",
   "metadata": {},
   "source": [
    "# Fit sul validation dataset\n",
    "\n",
    "Il modello è pronto a fare anche le previsioni. Avendo generato un dataset di validazione, viene utilizzato per fare fit (prediction). \n",
    "\n",
    "Si stampa il grafico dei risultati, si può verifica se ci sono state degli errori di previsione. Nel validation dataset sono presenti le etichette associate alle immagini (Uninfected, Parasized), si calcola quanti falsi positivi (cellule uninfected riconosciute come malate, caso meno grave) e quanti falsi negativi (cellule malate riconosciute come non infette; caso più grave). \n",
    "\n",
    "Il numero elevato di immagini da analizzare può essere ridotto alle prime 1000,  decommentando la __if.....break__."
   ]
  },
  {
   "cell_type": "code",
   "execution_count": 49,
   "metadata": {},
   "outputs": [
    {
     "data": {
      "image/png": "[encoded data removed]",
      "text/plain": [
       "<Figure size 720x1080 with 1 Axes>"
      ]
     },
     "metadata": {
      "needs_background": "light"
     },
     "output_type": "display_data"
    }
   ],
   "source": [
    "count=0\n",
    "false_negative = 0\n",
    "false_positive = 0\n",
    "\n",
    "if savemod:\n",
    "    for row in x_validation_dataframe.itertuples(index=True, name='Pandas'):\n",
    "        img = Image.open(getattr(row, \"Filename\"))\n",
    "        label = getattr(row, \"Label\")\n",
    "        img = img.convert(\"RGB\")\n",
    "        img = img.resize((img_width, img_height), Image.ANTIALIAS)\n",
    "        img = img_to_array(img)\n",
    "        img = img/255.0\n",
    "        img = img.reshape((1,) + img.shape)\n",
    "        pred = model.predict(img)\n",
    "        pred = pred.item(0)\n",
    "        pred = np.round(pred, decimals = 3)\n",
    "        if pred > 0.500 and label == 'Parasitized':\n",
    "            false_negative = false_negative + 1\n",
    "        if pred <= 0.500 and label == 'Uninfected':\n",
    "            false_positive = false_positive + 1\n",
    "        count=count + 1\n",
    "        #if count >1000:\n",
    "        #    break;               \n",
    "    data = {'Totali' : count, 'Falsi Positivi' : false_positive, 'Falsi Negativi' : false_negative}\n",
    "    dataf = pd.DataFrame.from_dict(data, orient=\"index\")\n",
    "    dataf.to_csv('saved_model/predicted_data.csv')\n",
    "else:\n",
    "    dataf = pd.read_csv('saved_model/predicted_data.csv', index_col=0)\n",
    "    data = dataf.to_dict(\"split\")\n",
    "    data = dict(zip(d[\"index\"], d[\"data\"]))\n",
    "\n",
    "    \n",
    "names = list(data.keys())\n",
    "values = list(data.values())\n",
    "\n",
    "fig, axs = plt.subplots(1, 1, figsize=(10, 15), sharey=True)\n",
    "axs.bar(names, values)\n",
    "fig.suptitle('Rapporto: Totali / Falsi Positivi / Falsi Negativi')\n",
    "plt.show()\n",
    "\n"
   ]
  },
  {
   "cell_type": "code",
   "execution_count": null,
   "metadata": {},
   "outputs": [],
   "source": []
  }
 ],
 "metadata": {
  "kernelspec": {
   "display_name": "Python 3",
   "language": "python",
   "name": "python3"
  },
  "language_info": {
   "codemirror_mode": {
    "name": "ipython",
    "version": 3
   },
   "file_extension": ".py",
   "mimetype": "text/x-python",
   "name": "python",
   "nbconvert_exporter": "python",
   "pygments_lexer": "ipython3",
   "version": "3.6.8"
  }
 },
 "nbformat": 4,
 "nbformat_minor": 2
}
